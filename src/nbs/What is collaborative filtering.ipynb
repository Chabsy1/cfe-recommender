{
 "cells": [
  {
   "cell_type": "code",
   "execution_count": 2,
   "id": "4936a10b-2c9a-4651-9b05-3f46ab190b4c",
   "metadata": {},
   "outputs": [
    {
     "name": "stdout",
     "output_type": "stream",
     "text": [
      "'C:/Users/USER/Documents/recommender/src' successfully added to sys.path\n",
      "Django setup successfully\n"
     ]
    }
   ],
   "source": [
    "import sys\n",
    "import os\n",
    "import django\n",
    "from pathlib import Path\n",
    "\n",
    "# Manually set the root directory and the settings module\n",
    "root_dir = \"C:/Users/USER/Documents/recommender/src\"\n",
    "settings_module = \"cfehome.settings\"\n",
    "\n",
    "os.environ.setdefault(\"DJANGO_SETTINGS_MODULE\", settings_module)\n",
    "os.environ[\"DJANGO_ALLOW_ASYNC_UNSAFE\"] = \"true\"\n",
    "\n",
    "# Add the root directory to sys.path\n",
    "if root_dir not in sys.path:\n",
    "    sys.path.insert(0, root_dir)\n",
    "    print(f\"'{root_dir}' successfully added to sys.path\")\n",
    "\n",
    "# Setup Django\n",
    "try:\n",
    "    django.setup()\n",
    "    print(\"Django setup successfully\")\n",
    "except Exception as e:\n",
    "    print(f\"Error setting up Django: {e}\")"
   ]
  },
  {
   "cell_type": "code",
   "execution_count": 4,
   "id": "3eeeb9ca-c282-4699-8c98-16487cc1c3c6",
   "metadata": {},
   "outputs": [],
   "source": [
    "import numpy as np\n",
    "import pandas as pd\n",
    "from django.contrib.auth import get_user_model\n",
    "from django.db.models import F, Count, Sum, IntegerField\n",
    "from movies.models import Movie\n",
    "from ratings.models import Rating\n",
    "import random\n",
    "\n",
    "User = get_user_model()"
   ]
  },
  {
   "cell_type": "code",
   "execution_count": 6,
   "id": "949424f9-465e-4167-a47e-cdd3c82be58e",
   "metadata": {},
   "outputs": [
    {
     "data": {
      "text/plain": [
       "<Movie: The Poseidon Adventure>"
      ]
     },
     "execution_count": 6,
     "metadata": {},
     "output_type": "execute_result"
    }
   ],
   "source": [
    "rating_obj = Rating.objects.filter(user__username='Sydney', value__gte=5).first()\n",
    "rating_obj.content_object"
   ]
  },
  {
   "cell_type": "code",
   "execution_count": 7,
   "id": "6fc447b3-8712-4f3b-9b07-9d2d9e8ac71b",
   "metadata": {},
   "outputs": [],
   "source": [
    "movie_id = rating_obj.content_object.id\n",
    "value = rating_obj.value\n",
    "user_id = rating_obj.user_id"
   ]
  },
  {
   "cell_type": "code",
   "execution_count": 8,
   "id": "ace31423-4aab-464e-9942-1c4f742a5e4a",
   "metadata": {},
   "outputs": [
    {
     "name": "stdout",
     "output_type": "stream",
     "text": [
      "Movie 551 was rated 5 by 2\n"
     ]
    }
   ],
   "source": [
    "print(f\"Movie {movie_id} was rated {value} by {user_id}\")"
   ]
  },
  {
   "cell_type": "code",
   "execution_count": 11,
   "id": "bbf43304-9e03-408a-8a6b-c4099cdfae19",
   "metadata": {},
   "outputs": [],
   "source": [
    "other_user_ids = Rating.objects.filter(\n",
    "        object_id=rating_obj.object_id,\n",
    "        content_type=rating_obj.content_type,\n",
    "        value__gte=rating_obj.value\n",
    ").exclude(user=rating_obj.user).values_list('user_id', flat=True)\n",
    "\n",
    "\n",
    "\n",
    "highly_rated = Rating.objects.filter(user_id__in=other_user_ids, value__gte=4)"
   ]
  },
  {
   "cell_type": "code",
   "execution_count": 12,
   "id": "923b3d83-c0c1-4076-b0c8-d498ce59940d",
   "metadata": {},
   "outputs": [],
   "source": [
    "rec_users = []\n",
    "rec_movies = []\n",
    "for rating_obj in highly_rated:\n",
    "    if rating_obj.user not in rec_users:\n",
    "        rec_users.append(rating_obj.user)\n",
    "    object_id = rating_obj.object_id\n",
    "    if object_id not in rec_movies:\n",
    "        rec_movies.append(object_id)"
   ]
  },
  {
   "cell_type": "code",
   "execution_count": 13,
   "id": "bfd05233-1534-4c36-b345-7a155f8796e4",
   "metadata": {},
   "outputs": [
    {
     "name": "stdout",
     "output_type": "stream",
     "text": [
      "24 2339\n"
     ]
    }
   ],
   "source": [
    "print(len(rec_users), len(set(rec_movies)))"
   ]
  },
  {
   "cell_type": "code",
   "execution_count": 14,
   "id": "bcb919d3-5f2e-47dd-a093-a9e0a6b172fd",
   "metadata": {},
   "outputs": [],
   "source": [
    "import numpy as np\n"
   ]
  },
  {
   "cell_type": "code",
   "execution_count": 16,
   "id": "17ba1027-02fb-4325-a3f8-d2165b21f995",
   "metadata": {},
   "outputs": [
    {
     "name": "stdout",
     "output_type": "stream",
     "text": [
      "User has 3 primary preferences\n",
      "These movies have 5 unique features.\n"
     ]
    }
   ],
   "source": [
    "#a list of 2 movie attributes\n",
    "movie_1 = ['sci-fi', 'comedy', 'Stars latest action movie star']\n",
    "movie_2 = ['historical fiction', 'drama', 'Stars latest action movie star']\n",
    "\n",
    "#a list of user preferences\n",
    "user_a = ['comedy', 'sci-fi', 'Stars latest action movie star']\n",
    "print(f\"User has {len(user_a)} primary preferences\")\n",
    "\n",
    "#total number of potential features\n",
    "num_unique_features = len(set(movie_1 + movie_2))\n",
    "print(f\"These movies have {num_unique_features} unique features.\")"
   ]
  },
  {
   "cell_type": "code",
   "execution_count": 17,
   "id": "8e24bab2-bc1d-4f1c-b1d5-9c7904c573a7",
   "metadata": {},
   "outputs": [],
   "source": [
    "my_preferences = np.array([.98, .85, .75])"
   ]
  },
  {
   "cell_type": "code",
   "execution_count": 18,
   "id": "f5e1785e-b466-494d-b950-21892097ed4c",
   "metadata": {},
   "outputs": [],
   "source": [
    "movie_attribute_scores = np.array([.96, .99, .92])\n",
    "\n",
    "movie_2_attribute_scores = np.array([-.93, -.45, .5])"
   ]
  },
  {
   "cell_type": "code",
   "execution_count": 19,
   "id": "f5f8605b-75f8-404e-b3a4-aa38174e93fb",
   "metadata": {},
   "outputs": [
    {
     "data": {
      "text/plain": [
       "2.4723"
      ]
     },
     "execution_count": 19,
     "metadata": {},
     "output_type": "execute_result"
    }
   ],
   "source": [
    "(my_preferences * movie_attribute_scores).sum()"
   ]
  },
  {
   "cell_type": "code",
   "execution_count": 20,
   "id": "d6944810-2f6f-46b1-b16c-0bf379ac61ac",
   "metadata": {},
   "outputs": [
    {
     "data": {
      "text/plain": [
       "-0.9189"
      ]
     },
     "execution_count": 20,
     "metadata": {},
     "output_type": "execute_result"
    }
   ],
   "source": [
    "(my_preferences * movie_2_attribute_scores).sum()"
   ]
  },
  {
   "cell_type": "code",
   "execution_count": 22,
   "id": "61481042-5ccd-49de-aa2f-a07bec78be9c",
   "metadata": {},
   "outputs": [
    {
     "name": "stdout",
     "output_type": "stream",
     "text": [
      "3 -3\n"
     ]
    }
   ],
   "source": [
    "max_score = (np.array([1,1,1]) * np.array([1,1,1])).sum()\n",
    "min_score = (np.array([1,1,1]) * np.array([-1,-1,-1])).sum()\n",
    "print(max_score, min_score)"
   ]
  },
  {
   "cell_type": "code",
   "execution_count": 26,
   "id": "000b9efe-34de-4d91-9862-fd0e7c0ee39b",
   "metadata": {},
   "outputs": [],
   "source": [
    "ids = Movie.objects.all().popular()[:15]\n",
    "most_active_users = Rating.objects.all().annotate(\n",
    "    user_count=Count(\"user\")\n",
    ").order_by('-user_count').values_list('user_id')[:5_000]\n",
    "\n",
    "ratings_qs = Rating.objects.filter(\n",
    "    object_id__in=ids,\n",
    "    user_id__in=most_active_users,\n",
    "    active=True, value__gte=0\n",
    ").annotate(movie=F(\"object_id\")).values('user', 'value', 'movie')\n",
    "\n",
    "df = pd.DataFrame(ratings_qs)"
   ]
  },
  {
   "cell_type": "code",
   "execution_count": 27,
   "id": "a4f094ab-d455-4f0b-b64d-06b930103b6c",
   "metadata": {},
   "outputs": [
    {
     "data": {
      "text/html": [
       "<div>\n",
       "<style scoped>\n",
       "    .dataframe tbody tr th:only-of-type {\n",
       "        vertical-align: middle;\n",
       "    }\n",
       "\n",
       "    .dataframe tbody tr th {\n",
       "        vertical-align: top;\n",
       "    }\n",
       "\n",
       "    .dataframe thead th {\n",
       "        text-align: right;\n",
       "    }\n",
       "</style>\n",
       "<table border=\"1\" class=\"dataframe\">\n",
       "  <thead>\n",
       "    <tr style=\"text-align: right;\">\n",
       "      <th>movie</th>\n",
       "      <th>110</th>\n",
       "      <th>260</th>\n",
       "      <th>296</th>\n",
       "      <th>318</th>\n",
       "      <th>356</th>\n",
       "      <th>457</th>\n",
       "      <th>480</th>\n",
       "      <th>527</th>\n",
       "      <th>588</th>\n",
       "      <th>593</th>\n",
       "      <th>608</th>\n",
       "      <th>858</th>\n",
       "      <th>2762</th>\n",
       "      <th>2959</th>\n",
       "      <th>4993</th>\n",
       "    </tr>\n",
       "    <tr>\n",
       "      <th>user</th>\n",
       "      <th></th>\n",
       "      <th></th>\n",
       "      <th></th>\n",
       "      <th></th>\n",
       "      <th></th>\n",
       "      <th></th>\n",
       "      <th></th>\n",
       "      <th></th>\n",
       "      <th></th>\n",
       "      <th></th>\n",
       "      <th></th>\n",
       "      <th></th>\n",
       "      <th></th>\n",
       "      <th></th>\n",
       "      <th></th>\n",
       "    </tr>\n",
       "  </thead>\n",
       "  <tbody>\n",
       "    <tr>\n",
       "      <th>2</th>\n",
       "      <td>4.0</td>\n",
       "      <td></td>\n",
       "      <td>4.0</td>\n",
       "      <td></td>\n",
       "      <td>3.0</td>\n",
       "      <td>3.0</td>\n",
       "      <td>4.0</td>\n",
       "      <td>4.0</td>\n",
       "      <td>3.0</td>\n",
       "      <td>3.0</td>\n",
       "      <td></td>\n",
       "      <td></td>\n",
       "      <td></td>\n",
       "      <td></td>\n",
       "      <td></td>\n",
       "    </tr>\n",
       "    <tr>\n",
       "      <th>3</th>\n",
       "      <td>4.0</td>\n",
       "      <td></td>\n",
       "      <td>5.0</td>\n",
       "      <td>5.0</td>\n",
       "      <td>5.0</td>\n",
       "      <td></td>\n",
       "      <td></td>\n",
       "      <td>3.0</td>\n",
       "      <td>3.0</td>\n",
       "      <td>3.0</td>\n",
       "      <td></td>\n",
       "      <td></td>\n",
       "      <td>4.0</td>\n",
       "      <td>5.0</td>\n",
       "      <td></td>\n",
       "    </tr>\n",
       "    <tr>\n",
       "      <th>4</th>\n",
       "      <td></td>\n",
       "      <td>5.0</td>\n",
       "      <td>5.0</td>\n",
       "      <td></td>\n",
       "      <td>5.0</td>\n",
       "      <td></td>\n",
       "      <td>5.0</td>\n",
       "      <td></td>\n",
       "      <td>5.0</td>\n",
       "      <td></td>\n",
       "      <td></td>\n",
       "      <td>5.0</td>\n",
       "      <td></td>\n",
       "      <td></td>\n",
       "      <td></td>\n",
       "    </tr>\n",
       "    <tr>\n",
       "      <th>5</th>\n",
       "      <td></td>\n",
       "      <td></td>\n",
       "      <td></td>\n",
       "      <td></td>\n",
       "      <td>4.0</td>\n",
       "      <td></td>\n",
       "      <td></td>\n",
       "      <td></td>\n",
       "      <td>4.0</td>\n",
       "      <td></td>\n",
       "      <td></td>\n",
       "      <td>3.0</td>\n",
       "      <td>4.0</td>\n",
       "      <td></td>\n",
       "      <td></td>\n",
       "    </tr>\n",
       "    <tr>\n",
       "      <th>7</th>\n",
       "      <td>5.0</td>\n",
       "      <td>5.0</td>\n",
       "      <td></td>\n",
       "      <td>5.0</td>\n",
       "      <td>3.0</td>\n",
       "      <td></td>\n",
       "      <td>4.0</td>\n",
       "      <td></td>\n",
       "      <td>4.0</td>\n",
       "      <td></td>\n",
       "      <td></td>\n",
       "      <td></td>\n",
       "      <td></td>\n",
       "      <td></td>\n",
       "      <td></td>\n",
       "    </tr>\n",
       "    <tr>\n",
       "      <th>8</th>\n",
       "      <td>4.0</td>\n",
       "      <td>4.0</td>\n",
       "      <td>4.0</td>\n",
       "      <td>5.0</td>\n",
       "      <td>4.0</td>\n",
       "      <td>5.0</td>\n",
       "      <td></td>\n",
       "      <td>5.0</td>\n",
       "      <td></td>\n",
       "      <td>5.0</td>\n",
       "      <td></td>\n",
       "      <td>5.0</td>\n",
       "      <td>5.0</td>\n",
       "      <td>4.0</td>\n",
       "      <td>4.0</td>\n",
       "    </tr>\n",
       "    <tr>\n",
       "      <th>9</th>\n",
       "      <td></td>\n",
       "      <td></td>\n",
       "      <td></td>\n",
       "      <td>4.0</td>\n",
       "      <td></td>\n",
       "      <td></td>\n",
       "      <td></td>\n",
       "      <td>5.0</td>\n",
       "      <td></td>\n",
       "      <td>4.0</td>\n",
       "      <td>5.0</td>\n",
       "      <td></td>\n",
       "      <td>4.0</td>\n",
       "      <td></td>\n",
       "      <td></td>\n",
       "    </tr>\n",
       "    <tr>\n",
       "      <th>10</th>\n",
       "      <td></td>\n",
       "      <td></td>\n",
       "      <td></td>\n",
       "      <td>4.0</td>\n",
       "      <td></td>\n",
       "      <td></td>\n",
       "      <td></td>\n",
       "      <td></td>\n",
       "      <td></td>\n",
       "      <td></td>\n",
       "      <td></td>\n",
       "      <td></td>\n",
       "      <td></td>\n",
       "      <td></td>\n",
       "      <td></td>\n",
       "    </tr>\n",
       "    <tr>\n",
       "      <th>11</th>\n",
       "      <td></td>\n",
       "      <td></td>\n",
       "      <td>5.0</td>\n",
       "      <td></td>\n",
       "      <td></td>\n",
       "      <td></td>\n",
       "      <td></td>\n",
       "      <td></td>\n",
       "      <td></td>\n",
       "      <td></td>\n",
       "      <td></td>\n",
       "      <td></td>\n",
       "      <td>3.0</td>\n",
       "      <td></td>\n",
       "      <td></td>\n",
       "    </tr>\n",
       "    <tr>\n",
       "      <th>12</th>\n",
       "      <td></td>\n",
       "      <td></td>\n",
       "      <td></td>\n",
       "      <td></td>\n",
       "      <td></td>\n",
       "      <td></td>\n",
       "      <td></td>\n",
       "      <td></td>\n",
       "      <td></td>\n",
       "      <td></td>\n",
       "      <td>2.0</td>\n",
       "      <td></td>\n",
       "      <td></td>\n",
       "      <td>4.0</td>\n",
       "      <td></td>\n",
       "    </tr>\n",
       "    <tr>\n",
       "      <th>13</th>\n",
       "      <td>4.0</td>\n",
       "      <td></td>\n",
       "      <td>4.0</td>\n",
       "      <td>5.0</td>\n",
       "      <td>5.0</td>\n",
       "      <td></td>\n",
       "      <td>3.0</td>\n",
       "      <td>4.0</td>\n",
       "      <td></td>\n",
       "      <td></td>\n",
       "      <td></td>\n",
       "      <td></td>\n",
       "      <td>3.0</td>\n",
       "      <td></td>\n",
       "      <td>5.0</td>\n",
       "    </tr>\n",
       "    <tr>\n",
       "      <th>15</th>\n",
       "      <td>3.0</td>\n",
       "      <td>5.0</td>\n",
       "      <td>5.0</td>\n",
       "      <td>2.0</td>\n",
       "      <td>1.0</td>\n",
       "      <td>5.0</td>\n",
       "      <td>3.0</td>\n",
       "      <td>4.0</td>\n",
       "      <td>1.0</td>\n",
       "      <td>5.0</td>\n",
       "      <td>5.0</td>\n",
       "      <td>5.0</td>\n",
       "      <td>1.0</td>\n",
       "      <td>5.0</td>\n",
       "      <td>5.0</td>\n",
       "    </tr>\n",
       "    <tr>\n",
       "      <th>16</th>\n",
       "      <td></td>\n",
       "      <td></td>\n",
       "      <td></td>\n",
       "      <td>4.0</td>\n",
       "      <td></td>\n",
       "      <td></td>\n",
       "      <td></td>\n",
       "      <td>4.0</td>\n",
       "      <td></td>\n",
       "      <td></td>\n",
       "      <td></td>\n",
       "      <td></td>\n",
       "      <td></td>\n",
       "      <td></td>\n",
       "      <td></td>\n",
       "    </tr>\n",
       "    <tr>\n",
       "      <th>17</th>\n",
       "      <td></td>\n",
       "      <td>4.0</td>\n",
       "      <td>5.0</td>\n",
       "      <td>5.0</td>\n",
       "      <td>3.0</td>\n",
       "      <td></td>\n",
       "      <td>1.0</td>\n",
       "      <td>4.0</td>\n",
       "      <td></td>\n",
       "      <td>5.0</td>\n",
       "      <td>4.0</td>\n",
       "      <td>5.0</td>\n",
       "      <td>5.0</td>\n",
       "      <td>5.0</td>\n",
       "      <td>5.0</td>\n",
       "    </tr>\n",
       "    <tr>\n",
       "      <th>18</th>\n",
       "      <td></td>\n",
       "      <td>3.0</td>\n",
       "      <td></td>\n",
       "      <td></td>\n",
       "      <td></td>\n",
       "      <td></td>\n",
       "      <td></td>\n",
       "      <td></td>\n",
       "      <td></td>\n",
       "      <td></td>\n",
       "      <td>4.0</td>\n",
       "      <td></td>\n",
       "      <td></td>\n",
       "      <td></td>\n",
       "      <td></td>\n",
       "    </tr>\n",
       "  </tbody>\n",
       "</table>\n",
       "</div>"
      ],
      "text/plain": [
       "movie 110  260  296  318  356  457  480  527  588  593  608  858  2762 2959  \\\n",
       "user                                                                          \n",
       "2      4.0       4.0       3.0  3.0  4.0  4.0  3.0  3.0                       \n",
       "3      4.0       5.0  5.0  5.0            3.0  3.0  3.0            4.0  5.0   \n",
       "4           5.0  5.0       5.0       5.0       5.0            5.0             \n",
       "5                          4.0                 4.0            3.0  4.0        \n",
       "7      5.0  5.0       5.0  3.0       4.0       4.0                            \n",
       "8      4.0  4.0  4.0  5.0  4.0  5.0       5.0       5.0       5.0  5.0  4.0   \n",
       "9                     4.0                 5.0       4.0  5.0       4.0        \n",
       "10                    4.0                                                     \n",
       "11               5.0                                               3.0        \n",
       "12                                                       2.0            4.0   \n",
       "13     4.0       4.0  5.0  5.0       3.0  4.0                      3.0        \n",
       "15     3.0  5.0  5.0  2.0  1.0  5.0  3.0  4.0  1.0  5.0  5.0  5.0  1.0  5.0   \n",
       "16                    4.0                 4.0                                 \n",
       "17          4.0  5.0  5.0  3.0       1.0  4.0       5.0  4.0  5.0  5.0  5.0   \n",
       "18          3.0                                          4.0                  \n",
       "\n",
       "movie 4993  \n",
       "user        \n",
       "2           \n",
       "3           \n",
       "4           \n",
       "5           \n",
       "7           \n",
       "8      4.0  \n",
       "9           \n",
       "10          \n",
       "11          \n",
       "12          \n",
       "13     5.0  \n",
       "15     5.0  \n",
       "16          \n",
       "17     5.0  \n",
       "18          "
      ]
     },
     "execution_count": 27,
     "metadata": {},
     "output_type": "execute_result"
    }
   ],
   "source": [
    "df.pivot_table(index='user', columns=['movie'], values='value', fill_value='')[:15]"
   ]
  },
  {
   "cell_type": "code",
   "execution_count": 28,
   "id": "1f9b00a4-9e67-418f-b296-bbca570d0110",
   "metadata": {},
   "outputs": [
    {
     "data": {
      "text/plain": [
       "4"
      ]
     },
     "execution_count": 28,
     "metadata": {},
     "output_type": "execute_result"
    }
   ],
   "source": [
    "movie_1 = np.array([1, 1, 1, 1])\n",
    "user_1 = np.array([1, 1, 1, 1])\n",
    "(user_1 * movie_1).sum()"
   ]
  },
  {
   "cell_type": "code",
   "execution_count": null,
   "id": "84b4e19a-3c10-4793-bf2c-8dfec348e283",
   "metadata": {},
   "outputs": [],
   "source": []
  }
 ],
 "metadata": {
  "kernelspec": {
   "display_name": "Python 3 (ipykernel)",
   "language": "python",
   "name": "python3"
  },
  "language_info": {
   "codemirror_mode": {
    "name": "ipython",
    "version": 3
   },
   "file_extension": ".py",
   "mimetype": "text/x-python",
   "name": "python",
   "nbconvert_exporter": "python",
   "pygments_lexer": "ipython3",
   "version": "3.12.2"
  }
 },
 "nbformat": 4,
 "nbformat_minor": 5
}
